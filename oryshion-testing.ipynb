{
 "cells": [
  {
   "cell_type": "markdown",
   "metadata": {},
   "source": [
    "import modul dan library"
   ]
  },
  {
   "cell_type": "code",
   "execution_count": 1,
   "metadata": {},
   "outputs": [],
   "source": [
    "import tensorflow as tf\n",
    "import json\n",
    "import requests\n",
    "from pprint import PrettyPrinter"
   ]
  },
  {
   "cell_type": "markdown",
   "metadata": {},
   "source": [
    "Mengecek hasil request dan metadata"
   ]
  },
  {
   "cell_type": "code",
   "execution_count": 2,
   "metadata": {},
   "outputs": [
    {
     "name": "stdout",
     "output_type": "stream",
     "text": [
      "{'metadata': {'signature_def': {'signature_def': {'__saved_model_init_op': {'defaults': {},\n",
      "                                                                            'inputs': {},\n",
      "                                                                            'method_name': '',\n",
      "                                                                            'outputs': {'__saved_model_init_op': {'dtype': 'DT_INVALID',\n",
      "                                                                                                                  'name': 'NoOp',\n",
      "                                                                                                                  'tensor_shape': {'dim': [],\n",
      "                                                                                                                                   'unknown_rank': True}}}},\n",
      "                                                  'serving_default': {'defaults': {},\n",
      "                                                                      'inputs': {'examples': {'dtype': 'DT_STRING',\n",
      "                                                                                              'name': 'serving_default_examples:0',\n",
      "                                                                                              'tensor_shape': {'dim': [{'name': '',\n",
      "                                                                                                                        'size': '-1'}],\n",
      "                                                                                                               'unknown_rank': False}}},\n",
      "                                                                      'method_name': 'tensorflow/serving/predict',\n",
      "                                                                      'outputs': {'output_0': {'dtype': 'DT_FLOAT',\n",
      "                                                                                               'name': 'StatefulPartitionedCall:0',\n",
      "                                                                                               'tensor_shape': {'dim': [{'name': '',\n",
      "                                                                                                                         'size': '-1'},\n",
      "                                                                                                                        {'name': '',\n",
      "                                                                                                                         'size': '3'}],\n",
      "                                                                                                                'unknown_rank': False}}}}}}},\n",
      " 'model_spec': {'name': 'sentimen-model',\n",
      "                'signature_name': '',\n",
      "                'version': '1740324249'}}\n"
     ]
    }
   ],
   "source": [
    "pp = PrettyPrinter()\n",
    "pp.pprint(requests.get(\"http://localhost:8080/v1/models/sentimen-model/metadata\").json())"
   ]
  },
  {
   "cell_type": "markdown",
   "metadata": {},
   "source": [
    "inialisasi nama model dan endpoint"
   ]
  },
  {
   "cell_type": "code",
   "execution_count": 3,
   "metadata": {},
   "outputs": [],
   "source": [
    "labels = [\"NEGATIVE\", \"NEUTRAL\", \"POSITIVE\"]\n",
    "endpoint = \"http://localhost:8080/v1/models/sentimen-model:predict\""
   ]
  },
  {
   "cell_type": "markdown",
   "metadata": {},
   "source": [
    "Fungsi untuk transorm teks agar sesuai dengan pipeline"
   ]
  },
  {
   "cell_type": "code",
   "execution_count": 4,
   "metadata": {},
   "outputs": [],
   "source": [
    "def transform_text(text):\n",
    "    example = tf.train.Example(\n",
    "        features=tf.train.Features(\n",
    "            feature={\n",
    "                \"content\": tf.train.Feature(\n",
    "                    bytes_list=tf.train.BytesList(value=[text.encode(\"utf-8\")])\n",
    "                )\n",
    "            }\n",
    "        )\n",
    "    )\n",
    "    return example.SerializeToString()"
   ]
  },
  {
   "cell_type": "markdown",
   "metadata": {},
   "source": [
    "Fungsi untuk mengirimkan teks dan meminta hasil prediksi"
   ]
  },
  {
   "cell_type": "code",
   "execution_count": 5,
   "metadata": {},
   "outputs": [],
   "source": [
    "def predict(text):\n",
    "    text_input = transform_text(text)\n",
    "\n",
    "    data = {\n",
    "        \"instances\": [{\"examples\": text_input.decode(\"ISO-8859-1\")}]\n",
    "    }\n",
    "\n",
    "    headers = {\"content-type\": \"application/json\"}\n",
    "    response = requests.post(endpoint, json=data, headers=headers)\n",
    "\n",
    "    if response.status_code == 200:\n",
    "        predictions = response.json().get(\"predictions\", [])\n",
    "        if predictions:\n",
    "            predicted_label = predictions[0].index(max(predictions[0]))\n",
    "            label_name = labels[predictions[0].index(max(predictions[0]))]\n",
    "            return {\"text\": text, \"predicted_label\": predicted_label, \"label_name\": label_name}\n",
    "        else:\n",
    "            return {\"error\": \"Tidak ada prediksi yang tersedia\"}\n",
    "    else:\n",
    "        return {\n",
    "            \"error\": f\"Request failed with status code: {response.status_code}\",\n",
    "            \"response_text\": response.text\n",
    "        }"
   ]
  },
  {
   "cell_type": "markdown",
   "metadata": {},
   "source": [
    "Mencoba hasil prediksi"
   ]
  },
  {
   "cell_type": "code",
   "execution_count": 6,
   "metadata": {},
   "outputs": [
    {
     "name": "stdout",
     "output_type": "stream",
     "text": [
      "{\n",
      "  \"text\": \"Aplikasi ini memberikan kemudahan\",\n",
      "  \"predicted_label\": 2,\n",
      "  \"label_name\": \"POSITIVE\"\n",
      "}\n"
     ]
    }
   ],
   "source": [
    "text = \"Aplikasi ini memberikan kemudahan\"\n",
    "result = predict(text)\n",
    "print(json.dumps(result, indent=2, ensure_ascii=False))"
   ]
  }
 ],
 "metadata": {
  "kernelspec": {
   "display_name": "MLOps_venv",
   "language": "python",
   "name": "python3"
  },
  "language_info": {
   "codemirror_mode": {
    "name": "ipython",
    "version": 3
   },
   "file_extension": ".py",
   "mimetype": "text/x-python",
   "name": "python",
   "nbconvert_exporter": "python",
   "pygments_lexer": "ipython3",
   "version": "3.9.13"
  }
 },
 "nbformat": 4,
 "nbformat_minor": 2
}
